{
 "cells": [
  {
   "cell_type": "code",
   "execution_count": 30,
   "id": "f4797b17",
   "metadata": {},
   "outputs": [
    {
     "name": "stdout",
     "output_type": "stream",
     "text": [
      "<class 'set'>   {'e', 'c', 'a', 'd', 'b'}\n",
      "<class 'tuple'>   ('e', 'c', 'a', 'd', 'b')\n"
     ]
    }
   ],
   "source": [
    "#   program to convert set to tuple\n",
    "# create set\n",
    "s = {'a', 'b', 'c', 'd', 'e'}\n",
    " \n",
    "# print set\n",
    "print(type(s), \" \", s)\n",
    " \n",
    "# call tuple() method \n",
    "# this method convert set to tuple\n",
    "t = tuple(s)\n",
    " \n",
    "# print tuple\n",
    "print(type(t), \" \", t)"
   ]
  },
  {
   "cell_type": "code",
   "execution_count": 31,
   "id": "fe9ccea9",
   "metadata": {},
   "outputs": [
    {
     "name": "stdout",
     "output_type": "stream",
     "text": [
      "('e', 'c', 'a', 'd', 'b')\n"
     ]
    }
   ],
   "source": [
    "s = {'a', 'b', 'c', 'd', 'e'} \n",
    "x=[i for i in s]\n",
    "print(tuple(x))"
   ]
  },
  {
   "cell_type": "code",
   "execution_count": 32,
   "id": "c8735a7f",
   "metadata": {},
   "outputs": [
    {
     "name": "stdout",
     "output_type": "stream",
     "text": [
      "('e', 'c', 'a', 'd', 'b')\n"
     ]
    }
   ],
   "source": [
    "s = {'a', 'b', 'c', 'd', 'e'} \n",
    "x=[i for a,i in enumerate(s)]\n",
    "print(tuple(x))"
   ]
  },
  {
   "cell_type": "code",
   "execution_count": 33,
   "id": "422d0444",
   "metadata": {},
   "outputs": [
    {
     "name": "stdout",
     "output_type": "stream",
     "text": [
      "<class 'tuple'>    ('x', 'y', 'z')\n",
      "<class 'set'>    {'y', 'x', 'z'}\n"
     ]
    }
   ],
   "source": [
    "#program to convert tuple into set\n",
    " \n",
    "# create tuple\n",
    "t = ('x', 'y', 'z')\n",
    " \n",
    "# print tuple\n",
    "print(type(t), \"  \", t)\n",
    " \n",
    "# call set() method\n",
    "s = set(t)\n",
    " \n",
    "# print set\n",
    "print(type(s), \"  \", s)"
   ]
  },
  {
   "cell_type": "code",
   "execution_count": 34,
   "id": "430cd6b8",
   "metadata": {},
   "outputs": [
    {
     "name": "stdout",
     "output_type": "stream",
     "text": [
      "The converted tuple : (1, 2, 3, 4, 6, 7)\n"
     ]
    }
   ],
   "source": [
    "#initializing a set\n",
    "test_set = {6, 3, 7, 1, 2, 4}\n",
    " \n",
    "#converting the set into a tuple\n",
    "test_tuple = (*test_set,)\n",
    " \n",
    "#printing the converted tuple\n",
    "print(\"The converted tuple : \" + str(test_tuple))"
   ]
  },
  {
   "cell_type": "code",
   "execution_count": 35,
   "id": "e1fdba6e",
   "metadata": {},
   "outputs": [
    {
     "name": "stdout",
     "output_type": "stream",
     "text": [
      "('e', 'c', 'a', 'd', 'b')\n"
     ]
    }
   ],
   "source": [
    "s = {'a', 'b', 'c', 'd', 'e'}\n",
    " \n",
    "# initialize an empty tuple\n",
    "t = tuple()\n",
    " \n",
    "# loop through each element in the set s\n",
    "for i in s:\n",
    "    # create a one-element tuple with the current element i and concatenate it to t\n",
    "    t += (i,)\n",
    " # print the resulting tuple\n",
    "print(t)"
   ]
  },
  {
   "cell_type": "code",
   "execution_count": null,
   "id": "8d1c90cf",
   "metadata": {},
   "outputs": [],
   "source": []
  }
 ],
 "metadata": {
  "kernelspec": {
   "display_name": "Python 3 (ipykernel)",
   "language": "python",
   "name": "python3"
  },
  "language_info": {
   "codemirror_mode": {
    "name": "ipython",
    "version": 3
   },
   "file_extension": ".py",
   "mimetype": "text/x-python",
   "name": "python",
   "nbconvert_exporter": "python",
   "pygments_lexer": "ipython3",
   "version": "3.9.13"
  }
 },
 "nbformat": 4,
 "nbformat_minor": 5
}
